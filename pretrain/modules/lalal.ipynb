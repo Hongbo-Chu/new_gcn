{
 "cells": [
  {
   "cell_type": "code",
   "execution_count": 2,
   "metadata": {},
   "outputs": [
    {
     "name": "stdout",
     "output_type": "stream",
     "text": [
      "environ({'ADSK_3DSMAX_X64_2020': 'D:\\\\3ds Max 2020\\\\', 'ALLUSERSPROFILE': 'C:\\\\ProgramData', 'APPDATA': 'C:\\\\Users\\\\86136\\\\AppData\\\\Roaming', 'APPLICATION_INSIGHTS_NO_DIAGNOSTIC_CHANNEL': '1', 'ASL.LOG': 'Destination=file', 'AV_APPDATA': 'C:\\\\Users\\\\86136\\\\AppData\\\\Roaming', 'CHROME_CRASHPAD_PIPE_NAME': '\\\\\\\\.\\\\pipe\\\\crashpad_15924_FQPDTIPDYAEMDEMW', 'COMMONPROGRAMFILES': 'C:\\\\Program Files\\\\Common Files', 'COMMONPROGRAMFILES(X86)': 'C:\\\\Program Files (x86)\\\\Common Files', 'COMMONPROGRAMW6432': 'C:\\\\Program Files\\\\Common Files', 'COMPUTERNAME': 'LAPTOP-7GUR85V5', 'COMSPEC': 'C:\\\\WINDOWS\\\\system32\\\\cmd.exe', 'CONDA_DEFAULT_ENV': 'pytorch', 'CONDA_EXE': 'D:\\\\jkj\\\\Scripts\\\\conda.exe', 'CONDA_EXES': '\"D:\\\\jkj\\\\condabin\\\\..\\\\Scripts\\\\conda.exe\"  ', 'CONDA_PREFIX': 'D:\\\\jkj\\\\envs\\\\pytorch', 'CONDA_PROMPT_MODIFIER': '(pytorch) ', 'CONDA_PYTHON_EXE': 'D:\\\\jkj\\\\python.exe', 'CONDA_ROOT': 'D:\\\\jkj', 'CONDA_SHLVL': '1', 'DRIVERDATA': 'C:\\\\Windows\\\\System32\\\\Drivers\\\\DriverData', 'ELECTRON_RUN_AS_NODE': '1', 'FPS_BROWSER_APP_PROFILE_STRING': 'Internet Explorer', 'FPS_BROWSER_USER_PROFILE_STRING': 'Default', 'HOMEDRIVE': 'C:', 'HOMEPATH': '\\\\Users\\\\86136', 'JAVA_HOME': 'C:\\\\WINDOWS\\\\system32;C:\\\\WINDOWS;\"C:\\\\Program Files\\\\Java\\\\jdk-15\\\\bin\"', 'JPY_INTERRUPT_EVENT': '1752', 'LM_LICENSE_FILE': 'C:\\\\modelsim\\\\LICENSE.TXT', 'LOCALAPPDATA': 'C:\\\\Users\\\\86136\\\\AppData\\\\Local', 'LOGONSERVER': '\\\\\\\\LAPTOP-7GUR85V5', 'NODE_PATH': 'C:\\\\Program Files\\\\nodejs\\\\node_global\\\\node_modules', 'NO_XILINX_DATA_LICENSE': 'HIDDEN', 'NUMBER_OF_PROCESSORS': '8', 'ONEDRIVE': 'C:\\\\Users\\\\86136\\\\OneDrive', 'ONEDRIVECONSUMER': 'C:\\\\Users\\\\86136\\\\OneDrive', 'ONLINESERVICES': 'Online Services', 'ORIGINAL_XDG_CURRENT_DESKTOP': 'undefined', 'OS': 'Windows_NT', 'PATH': 'D:\\\\jkj\\\\envs\\\\pytorch;D:\\\\jkj\\\\envs\\\\pytorch;D:\\\\jkj\\\\envs\\\\pytorch\\\\Library\\\\mingw-w64\\\\bin;D:\\\\jkj\\\\envs\\\\pytorch\\\\Library\\\\usr\\\\bin;D:\\\\jkj\\\\envs\\\\pytorch\\\\Library\\\\bin;D:\\\\jkj\\\\envs\\\\pytorch\\\\Scripts;D:\\\\jkj\\\\envs\\\\pytorch\\\\bin;D:\\\\jkj\\\\condabin;D:\\\\jkj;D:\\\\jkj\\\\Library\\\\mingw-w64\\\\bin;D:\\\\jkj\\\\Library\\\\usr\\\\bin;D:\\\\jkj\\\\Library\\\\bin;D:\\\\jkj\\\\Scripts;D:\\\\jkj\\\\bin;C:\\\\texlive\\\\2021\\\\bin\\\\win32;C:\\\\Program Files\\\\Common Files\\\\Oracle\\\\Java\\\\javapath;C:\\\\windows\\\\system32;C:\\\\windows;C:\\\\windows\\\\System32\\\\Wbem;C:\\\\windows\\\\System32\\\\WindowsPowerShell\\\\v1.0;C:\\\\windows\\\\System32\\\\OpenSSH;C:\\\\Program Files (x86)\\\\NVIDIA Corporation\\\\PhysX\\\\Common;C:\\\\Program Files\\\\NVIDIA Corporation\\\\NVIDIA NvDLISR;C:\\\\Program Files\\\\Common Files\\\\Autodesk Shared;C:\\\\Program Files\\\\Microsoft SQL Server\\\\120\\\\Tools\\\\Binn;C:\\\\Program Files\\\\Microsoft SQL Server\\\\Client SDK\\\\ODBC\\\\110\\\\Tools\\\\Binn;C:\\\\Program Files (x86)\\\\Microsoft SQL Server\\\\120\\\\Tools\\\\Binn;C:\\\\Program Files\\\\Microsoft SQL Server\\\\120\\\\DTS\\\\Binn;\"C:\\\\Program Files (x86)\\\\Windows Kits\\\\8.1\\\\Windows Performance Toolkit;\";C:\\\\quickk;D:\\\\qiuqiul\\\\miktex\\\\bin\\\\x64;D:\\\\latex\\\\texlive\\\\2021\\\\bin\\\\win32;C:\\\\Users\\\\86136\\\\AppData\\\\Roaming\\\\Microsoft\\\\Windows\\\\Start Menu\\\\Programs\\\\sox-14.4.2;D:\\\\sox-14-4-2;D:\\\\ffmpeg-N-101958-g39eafd0b2e-win64-gpl\\\\bin;D:\\\\dvisvgm;C:\\\\WINDOWS\\\\system32;C:\\\\WINDOWS;C:\\\\WINDOWS\\\\System32\\\\Wbem;C:\\\\WINDOWS\\\\System32\\\\WindowsPowerShell\\\\v1.0;C:\\\\WINDOWS\\\\System32\\\\OpenSSH;D:\\\\Git\\\\cmd;C:\\\\chromedriver;C:\\\\modelsim\\\\LICENSE.TXT;C:\\\\Program Files\\\\dotnet;D:\\\\mingw64\\\\bin;C:\\\\Program Files\\\\nodejs;C:\\\\Program Files\\\\Microsoft SQL Server\\\\Client SDK\\\\ODBC\\\\170\\\\Tools\\\\Binn;C:\\\\Program Files (x86)\\\\Microsoft SQL Server\\\\150\\\\Tools\\\\Binn;C:\\\\Program Files\\\\Microsoft SQL Server\\\\150\\\\Tools\\\\Binn;C:\\\\Program Files\\\\Microsoft SQL Server\\\\150\\\\DTS\\\\Binn;C:\\\\Program Files (x86)\\\\Microsoft SQL Server\\\\150\\\\DTS\\\\Binn;C:\\\\Program Files\\\\Azure Data Studio\\\\bin;D:\\\\xshell;D:\\\\;D:\\\\jkj;D:\\\\jkj\\\\Library\\\\mingw-w64\\\\bin;D:\\\\jkj\\\\Library\\\\usr\\\\bin;D:\\\\jkj\\\\Library\\\\bin;D:\\\\jkj\\\\Scripts;C:\\\\Users\\\\86136\\\\AppData\\\\Local\\\\Microsoft\\\\WindowsApps;D:\\\\ffmpeg-N-101958-g39eafd0b2e-win64-gpl\\\\bin;C:\\\\Users\\\\86136\\\\AppData\\\\Roaming\\\\Microsoft\\\\Windows\\\\Start Menu\\\\Programs\\\\sox-14.4.2;D:\\\\sox-14-4-2;D:\\\\dvisvgm;C:\\\\chromedriver;C:\\\\modelsim\\\\win32;C:\\\\modelsim\\\\LICENSE.TXT;C:\\\\Users\\\\86136\\\\AppData\\\\Roaming\\\\npm;C:\\\\program Files\\\\nodejs\\\\node_global;C:\\\\Program Files\\\\Azure Data Studio\\\\bin;D:\\\\arduino-1.8.12-Windows-portable;D:\\\\vs code\\\\Microsoft VS Code\\\\bin', 'PATHEXT': '.COM;.EXE;.BAT;.CMD;.VBS;.VBE;.JS;.JSE;.WSF;.WSH;.MSC', 'PLATFORMCODE': 'KV', 'PROCESSOR_ARCHITECTURE': 'AMD64', 'PROCESSOR_IDENTIFIER': 'Intel64 Family 6 Model 158 Stepping 10, GenuineIntel', 'PROCESSOR_LEVEL': '6', 'PROCESSOR_REVISION': '9e0a', 'PROGRAMDATA': 'C:\\\\ProgramData', 'PROGRAMFILES': 'C:\\\\Program Files', 'PROGRAMFILES(X86)': 'C:\\\\Program Files (x86)', 'PROGRAMW6432': 'C:\\\\Program Files', 'PROMPT': '(pytorch) $P$G', 'PSMODULEPATH': 'C:\\\\Program Files\\\\WindowsPowerShell\\\\Modules;C:\\\\WINDOWS\\\\system32\\\\WindowsPowerShell\\\\v1.0\\\\Modules;C:\\\\Program Files (x86)\\\\Microsoft SQL Server\\\\120\\\\Tools\\\\PowerShell\\\\Modules\\\\;C:\\\\Program Files (x86)\\\\Microsoft SQL Server\\\\150\\\\Tools\\\\PowerShell\\\\Modules\\\\', 'PUBLIC': 'C:\\\\Users\\\\Public', 'PYTHONIOENCODING': 'utf-8', 'PYTHONNOUSERSITE': 'True', 'PYTHONUNBUFFERED': '1', 'PYTHONUTF8': '1', 'QUARTUS_ROOTDIR': 'D:\\\\quartus', 'REGIONCODE': 'APJ', 'SESSIONNAME': 'Console', 'SOPC_KIT_NIOS2': 'D:\\\\nios2eds', 'SW_SIM_HYDRA': 'C:\\\\Program Files\\\\Common Files\\\\SolidWorks Shared\\\\Simulation Worker Agent\\\\', 'SW_SIM_MPIT': 'INTELMPI', 'SW_SIM_TEMP': 'C:\\\\ProgramData\\\\SOLIDWORKS\\\\SW_net_sim_temp\\\\', 'SYSTEMDRIVE': 'C:', 'SYSTEMROOT': 'C:\\\\WINDOWS', 'TEMP': 'C:\\\\Users\\\\86136\\\\AppData\\\\Local\\\\Temp', 'TMP': 'C:\\\\Users\\\\86136\\\\AppData\\\\Local\\\\Temp', 'USERDOMAIN': 'LAPTOP-7GUR85V5', 'USERDOMAIN_ROAMINGPROFILE': 'LAPTOP-7GUR85V5', 'USERNAME': '86136', 'USERPROFILE': 'C:\\\\Users\\\\86136', 'VSCODE_AMD_ENTRYPOINT': 'vs/workbench/api/node/extensionHostProcess', 'VSCODE_CODE_CACHE_PATH': 'C:\\\\Users\\\\86136\\\\AppData\\\\Roaming\\\\Code\\\\CachedData\\\\8dfae7a5cd50421d10cd99cb873990460525a898', 'VSCODE_CWD': 'D:\\\\vs code\\\\Microsoft VS Code', 'VSCODE_HANDLES_UNCAUGHT_ERRORS': 'true', 'VSCODE_IPC_HOOK': '\\\\\\\\.\\\\pipe\\\\3178960c0ee07a78a463b618069b2463-1.66.1-main-sock', 'VSCODE_IPC_HOOK_EXTHOST': '\\\\\\\\.\\\\pipe\\\\vscode-ipc-7ee7c718-1a2f-44ca-b057-c70a464b8d0f-sock', 'VSCODE_LOG_NATIVE': 'false', 'VSCODE_LOG_STACK': 'false', 'VSCODE_NLS_CONFIG': '{\"locale\":\"zh-cn\",\"availableLanguages\":{\"*\":\"zh-cn\"},\"_languagePackId\":\"8aee2a6259b28036085891d63c7b68d2.zh-cn\",\"_translationsConfigFile\":\"C:\\\\\\\\Users\\\\\\\\86136\\\\\\\\AppData\\\\\\\\Roaming\\\\\\\\Code\\\\\\\\clp\\\\\\\\8aee2a6259b28036085891d63c7b68d2.zh-cn\\\\\\\\tcf.json\",\"_cacheRoot\":\"C:\\\\\\\\Users\\\\\\\\86136\\\\\\\\AppData\\\\\\\\Roaming\\\\\\\\Code\\\\\\\\clp\\\\\\\\8aee2a6259b28036085891d63c7b68d2.zh-cn\",\"_resolvedLanguagePackCoreLocation\":\"C:\\\\\\\\Users\\\\\\\\86136\\\\\\\\AppData\\\\\\\\Roaming\\\\\\\\Code\\\\\\\\clp\\\\\\\\8aee2a6259b28036085891d63c7b68d2.zh-cn\\\\\\\\8dfae7a5cd50421d10cd99cb873990460525a898\",\"_corruptedFile\":\"C:\\\\\\\\Users\\\\\\\\86136\\\\\\\\AppData\\\\\\\\Roaming\\\\\\\\Code\\\\\\\\clp\\\\\\\\8aee2a6259b28036085891d63c7b68d2.zh-cn\\\\\\\\corrupted.info\",\"_languagePackSupport\":true}', 'VSCODE_PID': '15924', 'VSCODE_PIPE_LOGGING': 'true', 'VSCODE_VERBOSE_LOGGING': 'true', 'WINDIR': 'C:\\\\WINDOWS', '_CONDA_OLD_CHCP': '936', '_SYSP': 'D:\\\\jkj', 'TERM': 'xterm-color', 'CLICOLOR': '1', 'PAGER': 'cat', 'GIT_PAGER': 'cat', 'MPLBACKEND': 'module://ipykernel.pylab.backend_inline'})\n"
     ]
    }
   ],
   "source": [
    "import os\n",
    "print(os.environ)"
   ]
  }
 ],
 "metadata": {
  "interpreter": {
   "hash": "72399f0b44d99fad973723989a7701ce657906c47d197fe6917a3c0d20d31390"
  },
  "kernelspec": {
   "display_name": "Python 3.6.13 ('pytorch')",
   "language": "python",
   "name": "python3"
  },
  "language_info": {
   "codemirror_mode": {
    "name": "ipython",
    "version": 3
   },
   "file_extension": ".py",
   "mimetype": "text/x-python",
   "name": "python",
   "nbconvert_exporter": "python",
   "pygments_lexer": "ipython3",
   "version": "3.6.13"
  },
  "orig_nbformat": 4
 },
 "nbformat": 4,
 "nbformat_minor": 2
}
